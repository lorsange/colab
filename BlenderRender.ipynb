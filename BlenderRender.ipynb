{
  "nbformat": 4,
  "nbformat_minor": 0,
  "metadata": {
    "colab": {
      "name": "BlenderRender.ipynb",
      "private_outputs": true,
      "provenance": [],
      "collapsed_sections": [],
      "machine_shape": "hm",
      "include_colab_link": true
    },
    "kernelspec": {
      "name": "python3",
      "display_name": "Python 3"
    },
    "accelerator": "GPU"
  },
  "cells": [
    {
      "cell_type": "markdown",
      "metadata": {
        "id": "view-in-github",
        "colab_type": "text"
      },
      "source": [
        "<a href=\"https://colab.research.google.com/github/lorsange/colab/blob/main/BlenderRender.ipynb\" target=\"_parent\"><img src=\"https://colab.research.google.com/assets/colab-badge.svg\" alt=\"Open In Colab\"/></a>"
      ]
    },
    {
      "cell_type": "code",
      "metadata": {
        "id": "O3UeFpFtslEq"
      },
      "source": [
        "#Connect Google Drive to Google Colab\n",
        "#=====================================\n",
        "from google.colab import drive\n",
        "drive.mount('/content/drive')"
      ],
      "execution_count": null,
      "outputs": []
    },
    {
      "cell_type": "code",
      "metadata": {
        "id": "URquYk8Ws01p"
      },
      "source": [
        "#Download Blender from Blender Repository. \n",
        "#Other Versions are here: https://download.blender.org/release/\n",
        "#=====================================\n",
        "!wget https://builder.blender.org/download/experimental/archive/blender-3.0.0-alpha+cycles-x.8d25aeb6a631-linux.x86_64-release.tar.xz"
      ],
      "execution_count": null,
      "outputs": []
    },
    {
      "cell_type": "code",
      "metadata": {
        "id": "sn6QKwJww-o9"
      },
      "source": [
        "!ls"
      ],
      "execution_count": null,
      "outputs": []
    },
    {
      "cell_type": "code",
      "metadata": {
        "id": "BknDNd3Zw-mg"
      },
      "source": [
        "!tar xf blender-3.0.0-alpha+cycles-x.8d25aeb6a631-linux.x86_64-release.tar.xz"
      ],
      "execution_count": null,
      "outputs": []
    },
    {
      "cell_type": "code",
      "metadata": {
        "id": "KOkbOijQuL2D"
      },
      "source": [
        "#Use these commands to move Blender zip file to Google Drive and then back to working directory so you don't have to download Blender each time\n",
        "\n",
        "#Copy Blender Zip File to Google Drive\n",
        "#=====================================\n",
        "#!cp /content/blender-3.0.0-alpha+cycles-x.8d25aeb6a631-linux.x86_64-release.tar.xz /content/drive/MyDrive/BlenderRenders/blender-3.0.0-alpha+cycles-x.8d25aeb6a631-linux.x86_64-release.tar.xz\n",
        "\n",
        "#Copy Blender Zip File from Google Drive\n",
        "#=====================================\n",
        "#!cp /content/drive/MyDrive/Blender/blender-3.0.0-alpha+cycles-x.8d25aeb6a631-linux.x86_64-release.tar.xz /content/3.0.0-alpha+cycles-x.8d25aeb6a631-linux.x86_64-release.tar.xz"
      ],
      "execution_count": null,
      "outputs": []
    },
    {
      "cell_type": "code",
      "metadata": {
        "id": "A7n_EfW1zJXA"
      },
      "source": [
        "#Set Path To Blender Files\n",
        "filename = '/content/drive/MyDrive/BlenderRenders/fluid.blend'"
      ],
      "execution_count": null,
      "outputs": []
    },
    {
      "cell_type": "code",
      "metadata": {
        "id": "fwLqh6-a0CHi"
      },
      "source": [
        "#Change Executable Access To blender On Google Drive\n",
        "!chmod +x /content/blender-3.0.0-alpha+cycles-x.8d25aeb6a631-linux.x86_64-release/blender"
      ],
      "execution_count": null,
      "outputs": []
    },
    {
      "cell_type": "code",
      "metadata": {
        "id": "4yMiC66x0x0d"
      },
      "source": [
        "#Run Blender"
      ],
      "execution_count": null,
      "outputs": []
    },
    {
      "cell_type": "code",
      "metadata": {
        "id": "qT2pi0TM3BLO"
      },
      "source": [
        "#Render Single Frame: Change -f 1 to -f 100 to render frame 100 for example\n",
        "#===========================================================================\n",
        "#!./blender3/blender -b $filename -noaudio -E 'CYCLES' --debug-all -o \"/content/drive/MyDrive/BlenderRenders\" -f 1 -F 'PNG' -- --cycles-device CUDA\n",
        "\n",
        "#Render Single Frame using OPTIX, if GPU supports it, otherwise use CUDA. \n",
        "#===========================================================================\n",
        "#!./blender3/blender -b $filename -noaudio -E 'CYCLES' -o \"/content/drive/MyDrive/BlenderRenders\" -f 1 -F 'PNG' -- --cycles-device OPTIX\n",
        "\n",
        "#Render Animation: -s 1 and -e 250 means, render frames 1 to 250 of animation, -a means render animation. Animation will be rendered in whatever format was chosen in blender file. i.e. MP4\n",
        "#===========================================================================\n",
        "! /content/blender-3.0.0-alpha+cycles-x.8d25aeb6a631-linux.x86_64-release/blender -b $filename -noaudio -E 'CYCLES' -o '/content/drive/MyDrive/BlenderRenders/Render/fluidimage_' -s 1 -e 250 -a -- --cycles-device CUDA"
      ],
      "execution_count": null,
      "outputs": []
    },
    {
      "cell_type": "code",
      "metadata": {
        "id": "V1G82GuO-tez"
      },
      "source": [
        "from psutil import virtual_memory\n",
        "ram_gb = virtual_memory().total / 1e9\n",
        "print('Your runtime has {:.1f} gigabytes of available RAM\\n'.format(ram_gb))\n",
        "\n",
        "if ram_gb < 20:\n",
        "  print('Not using a high-RAM runtime')\n",
        "else:\n",
        "  print('You are using a high-RAM runtime!')"
      ],
      "execution_count": null,
      "outputs": []
    },
    {
      "cell_type": "code",
      "metadata": {
        "id": "gWQbLTnT6G-p"
      },
      "source": [
        "#Uncomment To Check Nvidia GPU Status\n",
        "!nvidia-smi"
      ],
      "execution_count": null,
      "outputs": []
    },
    {
      "cell_type": "code",
      "metadata": {
        "id": "0O09wSSS7xGm"
      },
      "source": [
        "#Deletes the Default libtcmalloc-minimal4 version and installs the Ubuntu default version\n",
        "import os\n",
        "\n",
        "os.environ[\"LD_PRELOAD\"] = \"\"\n",
        "\n",
        "#Deletes wrong Version of libtcmalloc-minimal4\n",
        "!apt remove libtcmalloc-minimal4\n",
        "#Installs correct version of libtcmalloc-minimal4\n",
        "!apt install libtcmalloc-minimal4\n",
        "\n",
        "#Adds this library to the user environment\n",
        "os.environ[\"LD_PRELOAD\"] = \"/usr/lib/x86_64-linux-gnu/libtcmalloc_minimal.so.4.3.0\""
      ],
      "execution_count": null,
      "outputs": []
    }
  ]
}
{
  "cells": [
    {
      "cell_type": "markdown",
      "metadata": {
        "id": "view-in-github",
        "colab_type": "text"
      },
      "source": [
        "<a href=\"https://colab.research.google.com/github/lorsange/colab/blob/main/BlenderNerf_InstantNGP.ipynb\" target=\"_parent\"><img src=\"https://colab.research.google.com/assets/colab-badge.svg\" alt=\"Open In Colab\"/></a>"
      ]
    },
    {
      "cell_type": "markdown",
      "metadata": {
        "id": "0ht4AB0Nh107"
      },
      "source": [
        "# Install Instant NGP"
      ]
    },
    {
      "cell_type": "markdown",
      "metadata": {
        "id": "OPBw1NJwYn1W"
      },
      "source": [
        "Check which NVIDIA GPU is being used"
      ]
    },
    {
      "cell_type": "code",
      "execution_count": null,
      "metadata": {
        "id": "QJC-0GitoJEh"
      },
      "outputs": [],
      "source": [
        "!nvidia-smi"
      ]
    },
    {
      "cell_type": "markdown",
      "metadata": {
        "id": "M69lSJhLYsgi"
      },
      "source": [
        "Download and install packages"
      ]
    },
    {
      "cell_type": "code",
      "execution_count": null,
      "metadata": {
        "id": "yKFsL8wSdQ8Q"
      },
      "outputs": [],
      "source": [
        "!apt update && apt install build-essential git python3-dev python3-pip libopenexr-dev libxi-dev libglfw3-dev libglew-dev libomp-dev libxinerama-dev libxcursor-dev\n",
        "!pip install --upgrade cmake"
      ]
    },
    {
      "cell_type": "markdown",
      "metadata": {
        "id": "fLgrKJHOZIKW"
      },
      "source": [
        "Clone the Instant NGP repository"
      ]
    },
    {
      "cell_type": "code",
      "execution_count": null,
      "metadata": {
        "id": "ijgdl-TUcxnd"
      },
      "outputs": [],
      "source": [
        "!git clone --recursive https://github.com/nvlabs/instant-ngp\n",
        "%cd instant-ngp"
      ]
    },
    {
      "cell_type": "markdown",
      "metadata": {
        "id": "ENC6fi_tZgOb"
      },
      "source": [
        "Build the project with cmake (and disable GUI, as not supported in python notebooks) : **can take around 10min**"
      ]
    },
    {
      "cell_type": "code",
      "execution_count": null,
      "metadata": {
        "id": "cpuhlQmJcDPJ"
      },
      "outputs": [],
      "source": [
        "!cmake . -B build -DNGP_BUILD_WITH_GUI=OFF\n",
        "!cmake --build build --config RelWithDebInfo -j `nproc`"
      ]
    },
    {
      "cell_type": "markdown",
      "metadata": {
        "id": "3GVrYFfgZ_ol"
      },
      "source": [
        "Install package requirements"
      ]
    },
    {
      "cell_type": "code",
      "execution_count": null,
      "metadata": {
        "id": "TRfrshaCdpY8"
      },
      "outputs": [],
      "source": [
        "!pip3 install -r requirements.txt"
      ]
    },
    {
      "cell_type": "markdown",
      "metadata": {
        "id": "Z8f0ywQSYMNH"
      },
      "source": [
        "# Upload dataset"
      ]
    },
    {
      "cell_type": "markdown",
      "metadata": {
        "id": "078tmHBm3qDE"
      },
      "source": [
        "You can upload and access your archived *Blender $\\times$ NeRF* dataset (compressed in a ZIP file) in 3 different ways. If working with *COLAB*, I suggest uploading your data to Google Drive (*gdrive*) if it exceeds a few megabytes, as the uploading speed is significantly faster\n",
        "\n",
        "* `google_drive` : upload the ZIP file to gdrive, and edit **<path_to_dataset.zip>** in `gdrive_path` to match the relative path in which the dataset is stored in your gdrive\n",
        "\n",
        "* `colab_drive` : upload the ZIP file directly to the *COLAB* drive, accessible at the *Files* icon on the left panel. You can then upload your file either by clicking the top left *Upload to session storage* icon, or by just dragging your file to the left *Files* window. Finally, edit **<path_to_dataset.zip>** in `colab_drive` to match the relative path of your just uploaded dataset\n",
        "\n",
        "* `local_drive` : if you are not working with *COLAB*, but locally on your own machine, you can directly access the dataset by editing **<path_to_dataset.zip>** to the absolute path of your dataset"
      ]
    },
    {
      "cell_type": "code",
      "execution_count": null,
      "metadata": {
        "id": "wBAOGXqCwYFb"
      },
      "outputs": [],
      "source": [
        "upload_type = 'google_drive' #@param ['google_drive', 'colab_drive', 'local_drive'] {allow-input: false}\n",
        "\n",
        "gdrive_path = '/content/drive/MyDrive/<path_to_dataset.zip>' #@param {type: 'string'}\n",
        "\n",
        "colab_path = '/content/<path_to_dataset.zip>' #@param {type: 'string'}\n",
        "\n",
        "local_path = '<path_to_dataset.zip>' #@param {type: 'string'}"
      ]
    },
    {
      "cell_type": "markdown",
      "metadata": {
        "id": "rEFw3ngHe8ig"
      },
      "source": [
        "Extract the archived dataset"
      ]
    },
    {
      "cell_type": "code",
      "execution_count": null,
      "metadata": {
        "id": "l7Avmsq5okwl"
      },
      "outputs": [],
      "source": [
        "if upload_type == 'google_drive':\n",
        "    from google.colab import drive\n",
        "    drive.mount('/content/drive/')\n",
        "    dataset_path = gdrive_path\n",
        "\n",
        "elif upload_type == 'colab_drive':\n",
        "    dataset_path = colab_path\n",
        "\n",
        "elif upload_type == 'local_drive':\n",
        "    dataset_path = local_path\n",
        "\n",
        "!unzip $dataset_path"
      ]
    },
    {
      "cell_type": "markdown",
      "metadata": {
        "id": "MgnWAW1biLZG"
      },
      "source": [
        "# Run NeRF"
      ]
    },
    {
      "cell_type": "markdown",
      "metadata": {
        "id": "TKohYiA4fAf5"
      },
      "source": [
        "Set parameters to the ones you defined in the *Blender $\\times$ NeRF* add-on"
      ]
    },
    {
      "cell_type": "code",
      "execution_count": null,
      "metadata": {
        "id": "HqE3xJBzVXwi"
      },
      "outputs": [],
      "source": [
        "%cd /content/instant-ngp/\n",
        "\n",
        "import os\n",
        "import json\n",
        "\n",
        "dataset_dir = os.path.basename(dataset_path).split('.zip')[0]\n",
        "dataset_dir_train = '%s_train' % dataset_dir\n",
        "dataset_dir_test = '%s_test' % dataset_dir\n",
        "transforms_test_filepath = '%s/transforms_test.json' % dataset_dir_test\n",
        "\n",
        "with open(transforms_test_filepath) as file:\n",
        "    transforms_test = json.loads(file.read())\n",
        "\n",
        "width = int(transforms_test['w'])\n",
        "height = int(transforms_test['h'])\n",
        "\n",
        "test_img_dir = os.path.dirname( transforms_test['frames'][0]['file_path'] )\n",
        "test_dir = os.path.join(dataset_dir_test, test_img_dir)"
      ]
    },
    {
      "cell_type": "markdown",
      "metadata": {
        "id": "5PuG2e2dfJk5"
      },
      "source": [
        "**Run NeRF** : the training might take between a few seconds and a few minutes, depending on which GPU was assigned to you on *COLAB*\n",
        "\n",
        "* Higher *AABB scale* values will increase the training time, as rays will have to cross a larger bounding box area. A larger image resolution will also impact training time\n",
        "\n",
        "* Per default, I set the number of trainin epochs (or iterations) to 2000. Feel free to lower this number if you believe the model can converge faster\n",
        "\n",
        "* The predicted test images are stored under `instant-ngp/<dataset_name>_test/`"
      ]
    },
    {
      "cell_type": "code",
      "execution_count": null,
      "metadata": {
        "id": "5ayIkZzsmuDF"
      },
      "outputs": [],
      "source": [
        "!python scripts/run.py --training_data=$dataset_dir_train/ --mode=nerf \\\n",
        "                       --screenshot_transforms=$transforms_test_filepath \\\n",
        "                       --screenshot_w=$width --screenshot_h=$height \\\n",
        "                       --screenshot_dir=$test_dir \\\n",
        "                       --save_snapshot=snapshot.msgpack \\\n",
        "                       --n_steps=2000"
      ]
    },
    {
      "cell_type": "markdown",
      "metadata": {
        "id": "3pazQCO8qtOF"
      },
      "source": [
        "Compress predicted test images under `/content/<dataset_name>_test.zip`. The archived file can directly be downloaded from the left *Files* window with a right click"
      ]
    },
    {
      "cell_type": "code",
      "execution_count": null,
      "metadata": {
        "id": "0UoE-gyvnq_3"
      },
      "outputs": [],
      "source": [
        "!zip -r /content/$dataset_dir_test\\.zip $dataset_dir_test"
      ]
    },
    {
      "cell_type": "markdown",
      "metadata": {
        "id": "v3g6Kwmutrzn"
      },
      "source": [
        "Optionally, copy the archived file in your gdrive. If you previously uploaded the dataset via gdrive, the file will be stored under the same path"
      ]
    },
    {
      "cell_type": "code",
      "execution_count": null,
      "metadata": {
        "id": "P5HwCf7xsJg7"
      },
      "outputs": [],
      "source": [
        "if upload_type == 'google_drive':\n",
        "    save_path = os.path.dirname(gdrive_path)\n",
        "    !cp /content/$dataset_dir_test\\.zip $save_path\n",
        "\n",
        "else:\n",
        "    from google.colab import drive\n",
        "    drive.mount('/content/drive/')\n",
        "    !cp /content/$dataset_dir_test\\.zip /content/drive/MyDrive/"
      ]
    }
  ],
  "metadata": {
    "accelerator": "GPU",
    "colab": {
      "collapsed_sections": [
        "0ht4AB0Nh107",
        "Z8f0ywQSYMNH",
        "MgnWAW1biLZG"
      ],
      "provenance": [],
      "include_colab_link": true
    },
    "kernelspec": {
      "display_name": "Python 3",
      "language": "python",
      "name": "python3"
    },
    "language_info": {
      "codemirror_mode": {
        "name": "ipython",
        "version": 3
      },
      "file_extension": ".py",
      "mimetype": "text/x-python",
      "name": "python",
      "nbconvert_exporter": "python",
      "pygments_lexer": "ipython3",
      "version": "3.9.9"
    }
  },
  "nbformat": 4,
  "nbformat_minor": 0
}